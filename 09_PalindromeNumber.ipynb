{
 "cells": [
  {
   "cell_type": "markdown",
   "metadata": {},
   "source": [
    "Determine whether an integer is a palindrome. Do this without extra space.\n",
    "\n",
    "click to show spoilers.\n",
    "\n",
    "Some hints:\n",
    "Could negative integers be palindromes? (ie, -1)\n",
    "\n",
    "If you are thinking of converting the integer to string, note the restriction of using extra space.\n",
    "\n",
    "You could also try reversing an integer. However, if you have solved the problem \"Reverse Integer\", you know that the reversed integer might overflow. How would you handle such case?\n",
    "\n",
    "There is a more generic way of solving this problem."
   ]
  },
  {
   "cell_type": "code",
   "execution_count": 5,
   "metadata": {},
   "outputs": [
    {
     "name": "stdout",
     "output_type": "stream",
     "text": [
      "True\n",
      "True\n",
      "False\n"
     ]
    }
   ],
   "source": [
    "def checkPalindrome(val):\n",
    "    charset = list(str(val))\n",
    "    i = 0\n",
    "    j = len(charset) - 1\n",
    "    while(i<j):\n",
    "        if not charset[i]==charset[j]:\n",
    "            return False\n",
    "        i+=1\n",
    "        j-=1\n",
    "    return True\n",
    "print checkPalindrome(123321)\n",
    "print checkPalindrome(0)\n",
    "print checkPalindrome(43543253445)"
   ]
  },
  {
   "cell_type": "code",
   "execution_count": null,
   "metadata": {},
   "outputs": [],
   "source": []
  }
 ],
 "metadata": {
  "kernelspec": {
   "display_name": "Python 2",
   "language": "python",
   "name": "python2"
  },
  "language_info": {
   "codemirror_mode": {
    "name": "ipython",
    "version": 2
   },
   "file_extension": ".py",
   "mimetype": "text/x-python",
   "name": "python",
   "nbconvert_exporter": "python",
   "pygments_lexer": "ipython2",
   "version": "2.7.12"
  }
 },
 "nbformat": 4,
 "nbformat_minor": 2
}
