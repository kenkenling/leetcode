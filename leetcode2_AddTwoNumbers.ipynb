{
 "cells": [
  {
   "cell_type": "markdown",
   "metadata": {},
   "source": [
    "You are given two non-empty linked lists representing two non-negative integers. The digits are stored in reverse order and each of their nodes contain a single digit. Add the two numbers and return it as a linked list.\n",
    "\n",
    "You may assume the two numbers do not contain any leading zero, except the number 0 itself.\n",
    "\n",
    "Example\n",
    "\n",
    "Input: (2 -> 4 -> 3) + (5 -> 6 -> 4)\n",
    "Output: 7 -> 0 -> 8\n",
    "Explanation: 342 + 465 = 807."
   ]
  },
  {
   "cell_type": "code",
   "execution_count": 38,
   "metadata": {},
   "outputs": [
    {
     "name": "stdout",
     "output_type": "stream",
     "text": [
      "head1= 2\n",
      "head2= 5\n",
      "final result= 7\n",
      "final result= 0\n",
      "final result= 8\n"
     ]
    }
   ],
   "source": [
    "#Solution1: convert linkedlist to Integer, then do Integers sum, then convert \n",
    "class ListNode(object):\n",
    "    def __init__(self,x):\n",
    "        self.val = x\n",
    "        self.next = None\n",
    "        \n",
    "class solution(object):\n",
    "    def LinkedListToInt(self,l):\n",
    "        if l.next == None:\n",
    "            return l.val\n",
    "        num = 0\n",
    "        count = 0\n",
    "        while(l.next):\n",
    "            num = num + (10**count)*l.val\n",
    "            l = l.next\n",
    "            count+=1\n",
    "        num = num + (10**count)*l.val\n",
    "        return num\n",
    "    def IntToLinkedList(self,num):\n",
    "        l = ListNode(num%10)\n",
    "        if num<10:\n",
    "            return l\n",
    "        num = num/10\n",
    "        head = l\n",
    "        while(num>=10):\n",
    "            val = num%10\n",
    "            num = num/10\n",
    "            l.next = ListNode(val)\n",
    "            l = l.next\n",
    "        l.next = ListNode(num)\n",
    "        return head\n",
    "    def add(self,l1, l2):\n",
    "        if l1 is None and l2 is None:\n",
    "            return None\n",
    "        if l1 is None:\n",
    "            return l2\n",
    "        if l2 is None:\n",
    "            return l1\n",
    "        l1_int = self.LinkedListToInt(l1)\n",
    "        l2_int = self.LinkedListToInt(l2)\n",
    "        #print l1_int\n",
    "        #print l2_int\n",
    "        return self.IntToLinkedList(l1_int+l2_int)\n",
    "#Input: (2 -> 4 -> 3) + (5 -> 6 -> 4) Output: 7 -> 0 -> 8\n",
    "l1 = ListNode(2)\n",
    "head1= l1\n",
    "l1.next = ListNode(4)\n",
    "l1 = l1.next\n",
    "l1.next = ListNode(3)\n",
    "\n",
    "l2 = ListNode(5)\n",
    "head2 = l2\n",
    "l2.next = ListNode(6)\n",
    "l2 = l2.next\n",
    "l2.next = ListNode(4)\n",
    "print 'head1=', head1.val\n",
    "print 'head2=', head2.val\n",
    "\n",
    "l = solution().add(head1, head2)\n",
    "while(l.next):\n",
    "    print 'final result=', l.val\n",
    "    l = l.next\n",
    "print 'final result=', l.val\n",
    "    \n",
    "    "
   ]
  },
  {
   "cell_type": "markdown",
   "metadata": {},
   "source": [
    "Note:\n",
    "0. p95, 2.5\n",
    "1. How to create a linked list class? it should contain header node and pointer to next node.\n",
    "2. need to consider all kinds of special cases\n",
    "3. make sure self. is using correctly"
   ]
  },
  {
   "cell_type": "code",
   "execution_count": null,
   "metadata": {},
   "outputs": [],
   "source": []
  }
 ],
 "metadata": {
  "kernelspec": {
   "display_name": "Python 2",
   "language": "python",
   "name": "python2"
  },
  "language_info": {
   "codemirror_mode": {
    "name": "ipython",
    "version": 2
   },
   "file_extension": ".py",
   "mimetype": "text/x-python",
   "name": "python",
   "nbconvert_exporter": "python",
   "pygments_lexer": "ipython2",
   "version": "2.7.12"
  }
 },
 "nbformat": 4,
 "nbformat_minor": 2
}
