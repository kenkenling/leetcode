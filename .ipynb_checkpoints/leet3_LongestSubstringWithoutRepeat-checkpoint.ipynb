{
 "cells": [
  {
   "cell_type": "markdown",
   "metadata": {},
   "source": [
    "Given a string, find the length of the longest substring without repeating characters.\n",
    "\n",
    "Examples:\n",
    "\n",
    "Given \"abcabcbb\", the answer is \"abc\", which the length is 3.\n",
    "\n",
    "Given \"bbbbb\", the answer is \"b\", with the length of 1.\n",
    "\n",
    "Given \"pwwkew\", the answer is \"wke\", with the length of 3. Note that the answer must be a substring, \"pwke\" is a subsequence and not a substring.\n",
    "\n"
   ]
  },
  {
   "cell_type": "code",
   "execution_count": 23,
   "metadata": {},
   "outputs": [
    {
     "name": "stdout",
     "output_type": "stream",
     "text": [
      "sub:  a\n",
      "sub:  ab\n",
      "sub:  abc\n",
      "sub:  abc\n",
      "sub:  b\n",
      "sub:  bc\n",
      "sub:  bc\n",
      "sub:  c\n",
      "sub:  c\n",
      "3\n",
      "sub:  b\n",
      "sub:  bb\n",
      "sub:  bbb\n",
      "sub:  bbbb\n",
      "sub:  bbbbb\n",
      "sub:  bbbbbb\n",
      "sub:  bbbbbb\n",
      "sub:  b\n",
      "sub:  bb\n",
      "sub:  bbb\n",
      "sub:  bbbb\n",
      "sub:  bbbbb\n",
      "sub:  bbbbb\n",
      "sub:  b\n",
      "sub:  bb\n",
      "sub:  bbb\n",
      "sub:  bbbb\n",
      "sub:  bbbb\n",
      "sub:  b\n",
      "sub:  bb\n",
      "sub:  bbb\n",
      "sub:  bbb\n",
      "sub:  b\n",
      "sub:  bb\n",
      "sub:  bb\n",
      "sub:  b\n",
      "sub:  b\n",
      "1\n",
      "sub:  p\n",
      "sub:  pw\n",
      "sub:  pww\n",
      "sub:  pwwk\n",
      "sub:  pwwke\n",
      "sub:  pwwkew\n",
      "sub:  pwwkew\n",
      "sub:  w\n",
      "sub:  ww\n",
      "sub:  wwk\n",
      "sub:  wwke\n",
      "sub:  wwkew\n",
      "sub:  wwkew\n",
      "sub:  w\n",
      "sub:  wk\n",
      "sub:  wke\n",
      "sub:  wkew\n",
      "sub:  wkew\n",
      "sub:  k\n",
      "sub:  ke\n",
      "sub:  kew\n",
      "sub:  kew\n",
      "sub:  e\n",
      "sub:  ew\n",
      "sub:  ew\n",
      "sub:  w\n",
      "sub:  w\n",
      "3\n",
      "0\n"
     ]
    }
   ],
   "source": [
    "class solution(object):\n",
    "    def IsUniq(self,s):\n",
    "        charSet = list(s)\n",
    "        if len(set(charSet))==len(charSet):\n",
    "            return True\n",
    "        else:\n",
    "            return False\n",
    "    def longestSubstring(self,s):\n",
    "        result = {}\n",
    "        if s is \"\":\n",
    "            return 0\n",
    "        if len(s) == 1:\n",
    "            return 1\n",
    "        charSet = list(s)\n",
    "        for i in range(len(charSet)):\n",
    "            for j in range(i, len(charSet)+1):\n",
    "                sub = ''.join(charSet[i:j+1])\n",
    "                print 'sub: ', sub\n",
    "                if self.IsUniq(sub):\n",
    "                    result[len(sub)]=sub\n",
    "        return max(result.keys())\n",
    "print solution().longestSubstring('abc')\n",
    "print solution().longestSubstring('bbbbbb')\n",
    "print solution().longestSubstring('pwwkew')\n",
    "print solution().longestSubstring(\"\")"
   ]
  },
  {
   "cell_type": "markdown",
   "metadata": {},
   "source": [
    "Note: Errors\n",
    "Line 23: ValueError: max() arg is an empty sequence"
   ]
  },
  {
   "cell_type": "code",
   "execution_count": null,
   "metadata": {},
   "outputs": [],
   "source": []
  }
 ],
 "metadata": {
  "kernelspec": {
   "display_name": "Python 2",
   "language": "python",
   "name": "python2"
  },
  "language_info": {
   "codemirror_mode": {
    "name": "ipython",
    "version": 2
   },
   "file_extension": ".py",
   "mimetype": "text/x-python",
   "name": "python",
   "nbconvert_exporter": "python",
   "pygments_lexer": "ipython2",
   "version": "2.7.12"
  }
 },
 "nbformat": 4,
 "nbformat_minor": 2
}
