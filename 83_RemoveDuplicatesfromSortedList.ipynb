{
 "cells": [
  {
   "cell_type": "markdown",
   "metadata": {},
   "source": [
    "Given a sorted linked list, delete all duplicates such that each element appear only once.\n",
    "\n",
    "For example,\n",
    "Given 1->1->2, return 1->2.\n",
    "Given 1->1->2->3->3, return 1->2->3.\n",
    "\n"
   ]
  },
  {
   "cell_type": "code",
   "execution_count": 19,
   "metadata": {},
   "outputs": [],
   "source": [
    "class ListNode(object):\n",
    "    def __init__(self, val):\n",
    "        self.val = val\n",
    "        self.next = None\n",
    "        \n",
    "def removeDup(l):\n",
    "    dummyhead = l\n",
    "    if not l or not l.next:\n",
    "        return dummyhead\n",
    "    head2 = removeDup(l.next)\n",
    "    if head2.val == l.val:\n",
    "        l.next = head2.next\n",
    "    return dummyhead\n",
    "\n",
    "#checked!!!!"
   ]
  },
  {
   "cell_type": "code",
   "execution_count": 22,
   "metadata": {},
   "outputs": [
    {
     "name": "stdout",
     "output_type": "stream",
     "text": [
      "1\n",
      "2\n",
      "3\n",
      "5\n"
     ]
    }
   ],
   "source": [
    "l = ListNode(1)\n",
    "head = l\n",
    "l.next = ListNode(1)\n",
    "l = l.next\n",
    "l.next = ListNode(1)\n",
    "l = l.next\n",
    "l.next = ListNode(2)\n",
    "l = l.next\n",
    "l.next = ListNode(3)\n",
    "l = l.next\n",
    "l.next = ListNode(3)\n",
    "l = l.next\n",
    "l.next = ListNode(5)\n",
    "\n",
    "result = removeDup(head)\n",
    "\n",
    "while result.next:\n",
    "    print result.val\n",
    "    result = result.next\n",
    "print result.val"
   ]
  },
  {
   "cell_type": "code",
   "execution_count": null,
   "metadata": {},
   "outputs": [],
   "source": [
    "fast and slwo pointer not working????\n",
    "'''\n",
    "    slow = l\n",
    "    fast = l.next\n",
    "    while fast.next:\n",
    "        if slow.val == fast.val:\n",
    "            l.next = fast\n",
    "            slow = slow.next\n",
    "            fast = fast.next            \n",
    "        else:\n",
    "            l.next = slow\n",
    "            slow = slow.next\n",
    "    if not fast.val == slow.val:\n",
    "        l.next = fast\n",
    "    '''"
   ]
  },
  {
   "cell_type": "code",
   "execution_count": null,
   "metadata": {},
   "outputs": [],
   "source": []
  }
 ],
 "metadata": {
  "kernelspec": {
   "display_name": "Python 2",
   "language": "python",
   "name": "python2"
  },
  "language_info": {
   "codemirror_mode": {
    "name": "ipython",
    "version": 2
   },
   "file_extension": ".py",
   "mimetype": "text/x-python",
   "name": "python",
   "nbconvert_exporter": "python",
   "pygments_lexer": "ipython2",
   "version": "2.7.12"
  }
 },
 "nbformat": 4,
 "nbformat_minor": 2
}
