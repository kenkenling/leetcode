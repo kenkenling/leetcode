{
 "cells": [
  {
   "cell_type": "markdown",
   "metadata": {},
   "source": [
    "Given a roman numeral, convert it to an integer.\n",
    "Input is guaranteed to be within the range from 1 to 3999.    \n",
    "\n",
    "\n",
    "Symbol Value\n",
    "#####I 1\n",
    "#####V 5\n",
    "#####X 10\n",
    "#####L 50\n",
    "#####C 100\n",
    "#####D 500\n",
    "#####M 1000\n",
    "\n",
    "#### Note: if right one is larger than left one, then minus left one"
   ]
  },
  {
   "cell_type": "code",
   "execution_count": 10,
   "metadata": {},
   "outputs": [
    {
     "name": "stdout",
     "output_type": "stream",
     "text": [
      "1996\n"
     ]
    }
   ],
   "source": [
    "def RomantoInt(roman):\n",
    "    \n",
    "    mapping = {}\n",
    "    mapping['I']=1\n",
    "    mapping['V']=5\n",
    "    mapping['X']=10\n",
    "    mapping['L']=50\n",
    "    mapping['C']=100\n",
    "    mapping['D']=500\n",
    "    mapping['M']=1000  \n",
    "    \n",
    "    val = 0\n",
    "    charset = list(roman)\n",
    "    \n",
    "    i = 0\n",
    "    while i<len(charset)-1:\n",
    "        if mapping[charset[i]]<mapping[charset[i+1]]:\n",
    "            val = val-mapping[charset[i]]\n",
    "        else:\n",
    "            val = val+mapping[charset[i]]\n",
    "        i+=1\n",
    "    val = val+mapping[charset[i]]\n",
    "    return val\n",
    "\n",
    "#print RomantoInt('VIII')\n",
    "print RomantoInt('MCMXCVI')\n",
    "# checked!"
   ]
  },
  {
   "cell_type": "code",
   "execution_count": null,
   "metadata": {},
   "outputs": [],
   "source": []
  }
 ],
 "metadata": {
  "kernelspec": {
   "display_name": "Python 2",
   "language": "python",
   "name": "python2"
  },
  "language_info": {
   "codemirror_mode": {
    "name": "ipython",
    "version": 2
   },
   "file_extension": ".py",
   "mimetype": "text/x-python",
   "name": "python",
   "nbconvert_exporter": "python",
   "pygments_lexer": "ipython2",
   "version": "2.7.12"
  }
 },
 "nbformat": 4,
 "nbformat_minor": 2
}
