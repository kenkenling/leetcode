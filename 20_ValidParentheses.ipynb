{
 "cells": [
  {
   "cell_type": "markdown",
   "metadata": {},
   "source": [
    "Given a string containing just the characters '(', ')', '{', '}', '[' and ']', determine if the input string is valid.\n",
    "\n",
    "The brackets must close in the correct order, \"()\" and \"()[]{}\" are all valid but \"(]\" and \"([)]\" are not."
   ]
  },
  {
   "cell_type": "code",
   "execution_count": 14,
   "metadata": {},
   "outputs": [
    {
     "name": "stdout",
     "output_type": "stream",
     "text": [
      "False\n"
     ]
    }
   ],
   "source": [
    "PDict = {\n",
    "    '}':'{',\n",
    "    ']':'[',\n",
    "    ')':'('\n",
    "}\n",
    "def ValidParentheses(s):\n",
    "    stack = []\n",
    "    for char in list(s):\n",
    "        check = False\n",
    "        if char in PDict.keys():\n",
    "            if len(stack)>0:\n",
    "                if PDict[char]==stack[-1]:\n",
    "                    stack.pop()\n",
    "                    check = True\n",
    "        if not check:\n",
    "            stack.append(char)\n",
    "    if len(stack)>0:\n",
    "        return False\n",
    "    else:\n",
    "        return True\n",
    "\n",
    "#print ValidParentheses('()')\n",
    "#print ValidParentheses('()[]{}')\n",
    "#print ValidParentheses('(]')\n",
    "#print ValidParentheses('([)]')\n",
    "print ValidParentheses(']')\n",
    "# checked !!!"
   ]
  },
  {
   "cell_type": "code",
   "execution_count": null,
   "metadata": {},
   "outputs": [],
   "source": []
  }
 ],
 "metadata": {
  "kernelspec": {
   "display_name": "Python 2",
   "language": "python",
   "name": "python2"
  },
  "language_info": {
   "codemirror_mode": {
    "name": "ipython",
    "version": 2
   },
   "file_extension": ".py",
   "mimetype": "text/x-python",
   "name": "python",
   "nbconvert_exporter": "python",
   "pygments_lexer": "ipython2",
   "version": "2.7.12"
  }
 },
 "nbformat": 4,
 "nbformat_minor": 2
}
