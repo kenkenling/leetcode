{
 "cells": [
  {
   "cell_type": "markdown",
   "metadata": {},
   "source": [
    "Given a sorted array, remove the duplicates in-place such that each element appear only once and return the new length.\n",
    "\n",
    "Do not allocate extra space for another array, you must do this by modifying the input array in-place with O(1) extra memory.\n",
    "\n",
    "Example:\n",
    "\n",
    "Given nums = [1,1,2],\n",
    "\n",
    "Your function should return length = 2, with the first two elements of nums being 1 and 2 respectively.\n",
    "It doesn't matter what you leave beyond the new length.\n"
   ]
  },
  {
   "cell_type": "code",
   "execution_count": 13,
   "metadata": {},
   "outputs": [
    {
     "name": "stdout",
     "output_type": "stream",
     "text": [
      "0 1\n",
      "[1, 2, 2, 2, 6, 6]\n",
      "1 2\n",
      "[1, 2, 2, 2, 6, 6]\n",
      "1 2\n",
      "[1, 2, 2, 6, 6]\n",
      "1 2\n",
      "[1, 2, 6, 6]\n",
      "2 3\n",
      "[1, 2, 6, 6]\n",
      "[1, 2, 6]\n"
     ]
    }
   ],
   "source": [
    "def removeDuplicate(nums):\n",
    "    if len(nums)<=1:\n",
    "        return nums\n",
    "    slow = 0\n",
    "    fast = 1\n",
    "    \n",
    "    while(slow<len(nums)-1):\n",
    "        print slow, fast\n",
    "        print nums\n",
    "        if fast>len(nums)-1:\n",
    "            fast = slow + 1\n",
    "            \n",
    "        if nums[slow] == nums[fast]:\n",
    "            del nums[fast]\n",
    "        else:\n",
    "            slow+=1\n",
    "            fast+=1\n",
    "    return nums\n",
    "#print removeDuplicate([1,2,2,3,4,5])\n",
    "print removeDuplicate([1,2,2,2,6,6])\n",
    "#checked!"
   ]
  },
  {
   "cell_type": "code",
   "execution_count": null,
   "metadata": {},
   "outputs": [],
   "source": []
  }
 ],
 "metadata": {
  "kernelspec": {
   "display_name": "Python 2",
   "language": "python",
   "name": "python2"
  },
  "language_info": {
   "codemirror_mode": {
    "name": "ipython",
    "version": 2
   },
   "file_extension": ".py",
   "mimetype": "text/x-python",
   "name": "python",
   "nbconvert_exporter": "python",
   "pygments_lexer": "ipython2",
   "version": "2.7.12"
  }
 },
 "nbformat": 4,
 "nbformat_minor": 2
}
