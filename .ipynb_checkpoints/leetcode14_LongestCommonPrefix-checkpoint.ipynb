{
 "cells": [
  {
   "cell_type": "markdown",
   "metadata": {},
   "source": [
    "Write a function to find the longest common prefix string amongst an array of strings.\n",
    "\n",
    "###Q: Can we use Trie to solve this problem?"
   ]
  },
  {
   "cell_type": "code",
   "execution_count": 4,
   "metadata": {},
   "outputs": [
    {
     "name": "stdout",
     "output_type": "stream",
     "text": [
      "t\n"
     ]
    }
   ],
   "source": [
    "def longestComm(SList):\n",
    "    if len(SList)==0:\n",
    "        return \"\"\n",
    "    process = [list(x) for x in SList]\n",
    "    minLen = min([len(x) for x in process]) \n",
    "    result = []\n",
    "    for i in range(minLen):\n",
    "        if len(set([x[i] for x in process]))==1:\n",
    "            result.append(process[0][i])\n",
    "        else:\n",
    "            return ''.join(result)\n",
    "    return ''.join(result)\n",
    "print longestComm(['test','te','t','testpip'])\n",
    "###checked!"
   ]
  },
  {
   "cell_type": "code",
   "execution_count": null,
   "metadata": {},
   "outputs": [],
   "source": []
  }
 ],
 "metadata": {
  "kernelspec": {
   "display_name": "Python 2",
   "language": "python",
   "name": "python2"
  },
  "language_info": {
   "codemirror_mode": {
    "name": "ipython",
    "version": 2
   },
   "file_extension": ".py",
   "mimetype": "text/x-python",
   "name": "python",
   "nbconvert_exporter": "python",
   "pygments_lexer": "ipython2",
   "version": "2.7.12"
  }
 },
 "nbformat": 4,
 "nbformat_minor": 2
}
