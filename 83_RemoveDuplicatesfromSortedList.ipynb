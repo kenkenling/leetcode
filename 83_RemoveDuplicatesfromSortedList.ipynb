{
 "cells": [
  {
   "cell_type": "code",
   "execution_count": null,
   "metadata": {},
   "outputs": [],
   "source": [
    "class ListNode(object):\n",
    "    def __init__(val):\n",
    "        self.val = val\n",
    "        self.next = None\n",
    "        \n",
    "def removeDup(l):\n",
    "    dummyhead = l\n",
    "    slow = l\n",
    "    fast = l.next\n",
    "    while fast.next:\n",
    "        if slow.val == fast.val:\n",
    "            l.next = fast"
   ]
  }
 ],
 "metadata": {
  "kernelspec": {
   "display_name": "Python 2",
   "language": "python",
   "name": "python2"
  },
  "language_info": {
   "codemirror_mode": {
    "name": "ipython",
    "version": 2
   },
   "file_extension": ".py",
   "mimetype": "text/x-python",
   "name": "python",
   "nbconvert_exporter": "python",
   "pygments_lexer": "ipython2",
   "version": "2.7.12"
  }
 },
 "nbformat": 4,
 "nbformat_minor": 2
}
