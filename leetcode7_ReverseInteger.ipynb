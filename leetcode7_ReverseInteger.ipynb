{
 "cells": [
  {
   "cell_type": "markdown",
   "metadata": {},
   "source": [
    "Given a 32-bit signed integer, reverse digits of an integer.\n",
    "\n",
    "Example 1:\n",
    "Input: 123\n",
    "Output:  321\n",
    "\n",
    "Example 2:\n",
    "Input: -123\n",
    "Output: -321\n",
    "\n",
    "Example 3:\n",
    "Input: 120\n",
    "Output: 21\n",
    "\n",
    "Note:\n",
    "Assume we are dealing with an environment which could only hold integers within the 32-bit signed integer range. For the purpose of this problem, assume that your function returns 0 when the reversed integer overflows."
   ]
  },
  {
   "cell_type": "code",
   "execution_count": 24,
   "metadata": {},
   "outputs": [
    {
     "name": "stdout",
     "output_type": "stream",
     "text": [
      "-321\n",
      "0\n",
      "0\n"
     ]
    }
   ],
   "source": [
    "#class solution(object):\n",
    "def reverseInt(val):\n",
    "        checkneg = False\n",
    "        charset = list(str(val))\n",
    "        if charset[0] == '-':\n",
    "            checkneg = True\n",
    "        reverseset = []\n",
    "        i = len(charset)-1\n",
    "        while(i>0):\n",
    "            reverseset.append(charset[i])\n",
    "            i = i -1\n",
    "        if not checkneg:\n",
    "            reverseset.append(charset[i])\n",
    "            result = int(''.join(reverseset))\n",
    "        else:\n",
    "            result = 0- int(''.join(reverseset))\n",
    "        if abs(result)>2**31:\n",
    "            return 0\n",
    "        else:\n",
    "            return result\n",
    "        \n",
    "print reverseInt(-123)\n",
    "print reverseInt(0)\n",
    "print reverseInt(-945334245354353)\n",
    "#result checked!"
   ]
  },
  {
   "cell_type": "code",
   "execution_count": null,
   "metadata": {},
   "outputs": [],
   "source": []
  }
 ],
 "metadata": {
  "kernelspec": {
   "display_name": "Python 2",
   "language": "python",
   "name": "python2"
  },
  "language_info": {
   "codemirror_mode": {
    "name": "ipython",
    "version": 2
   },
   "file_extension": ".py",
   "mimetype": "text/x-python",
   "name": "python",
   "nbconvert_exporter": "python",
   "pygments_lexer": "ipython2",
   "version": "2.7.12"
  }
 },
 "nbformat": 4,
 "nbformat_minor": 2
}
